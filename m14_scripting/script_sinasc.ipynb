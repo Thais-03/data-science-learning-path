{
 "cells": [
  {
   "cell_type": "code",
   "execution_count": 8,
   "id": "a508f143-592f-47cb-ad44-1ebdd0e8d6e4",
   "metadata": {},
   "outputs": [
    {
     "name": "stdout",
     "output_type": "stream",
     "text": [
      "2019-01-01 2019-03-31\n",
      "2019-03\n",
      "2019-01-01 2019-04-30\n",
      "2019-04\n",
      "2019-01-01 2019-05-31\n",
      "2019-05\n",
      "2019-01-01 2019-06-30\n",
      "2019-06\n",
      "2019-01-01 2019-12-31\n",
      "2019-12\n"
     ]
    }
   ],
   "source": [
    "# Importar biblioteca padrão\n",
    "import os\n",
    "\n",
    "# Importar bibliotecas de terceiros\n",
    "import pandas as pd\n",
    "import seaborn as sns\n",
    "import matplotlib.pyplot as plt\n",
    "\n",
    "sns.set_theme()\n",
    "\n",
    "# Declarar função pra a plotagem dos gráficos\n",
    "def plota_grafico(df, value, index, func, ylabel, xlabel, opcao='nada'):\n",
    "    if opcao == 'nada':\n",
    "        pd.pivot_table(df, values=value, index=index,\n",
    "                       aggfunc=func).plot(figsize=[15, 5])\n",
    "    elif opcao == 'sort':\n",
    "        pd.pivot_table(df, values=value, index=index,\n",
    "                       aggfunc=func).sort_values(value).plot(figsize=[15, 5])\n",
    "    elif opcao == 'unstack':\n",
    "        pd.pivot_table(df, values=value, index=index,\n",
    "                       aggfunc=func).unstack().plot(figsize=[15, 5])\n",
    "    plt.ylabel(ylabel)\n",
    "    plt.xlabel(xlabel)\n",
    "\n",
    "# Listar arquivos\n",
    "sinasc_2019 = ['./input/SINASC_RO_2019_MAR.csv', \n",
    "               './input/SINASC_RO_2019_ABR.csv', \n",
    "               './input/SINASC_RO_2019_MAI.csv', \n",
    "               './input/SINASC_RO_2019_JUN.csv',\n",
    "               './input/SINASC_RO_2019_DEZ.csv']\n",
    "\n",
    "# Iterar sobre cada arquivo CSV\n",
    "for sinasc_mes in sinasc_2019:\n",
    "    sinasc = pd.read_csv(sinasc_mes)\n",
    "    print(sinasc.DTNASC.min(), sinasc.DTNASC.max())\n",
    "\n",
    "    # Extrair o ano e mês mais recente da coluna DTNASC\n",
    "    max_data = sinasc.DTNASC.max()[:7]\n",
    "    print(max_data)\n",
    "    \n",
    "    # Criar diretório de saída para salvar as figuras\n",
    "    output_dir = f'./output/figs/{max_data}'\n",
    "    os.makedirs(output_dir, exist_ok=True)\n",
    "\n",
    "    # Gerar e salvar as figuras\n",
    "    plota_grafico(sinasc, 'IDADEMAE', 'DTNASC', 'count', 'quantidade de nascimento', 'data de nascimento')\n",
    "    plt.savefig(f'{output_dir}/quantidade_de_nascimento.png')\n",
    "\n",
    "    plota_grafico(sinasc, 'IDADEMAE', ['DTNASC', 'SEXO'], 'mean', 'media idade mae', 'data de nascimento', 'unstack')\n",
    "    plt.savefig(f'{output_dir}/media_idade_mae_por_sexo.png')\n",
    "\n",
    "    plota_grafico(sinasc, 'PESO', ['DTNASC', 'SEXO'], 'mean', 'media peso bebe', 'data de nascimento', 'unstack')\n",
    "    plt.savefig(f'{output_dir}/media_peso_bebe_por_sexo.png')\n",
    "\n",
    "    plota_grafico(sinasc, 'PESO', 'ESCMAE', 'median', 'peso medio', 'escolaridade mae', 'sort')\n",
    "    plt.savefig(f'{output_dir}/media_peso_por_escolaridade_mae.png')\n",
    "\n",
    "    plota_grafico(sinasc, 'APGAR1', 'GESTACAO', 'mean', 'apgar1 medio', 'gestacao', 'sort')\n",
    "    plt.savefig(f'{output_dir}/media_apgar1_por_gestacao.png')\n",
    "\n",
    "    plota_grafico(sinasc, 'APGAR5', 'GESTACAO', 'mean', 'apgar5 medio', 'gestacao', 'sort')\n",
    "    plt.savefig(f'{output_dir}/media_apgar5_por_gestacao.png')\n",
    "\n",
    "    # Fechar as figuras para liberar memória\n",
    "    plt.close('all')"
   ]
  },
  {
   "cell_type": "code",
   "execution_count": null,
   "id": "8f0ddab5-98d7-492f-8ab0-991f7ae117a4",
   "metadata": {},
   "outputs": [],
   "source": []
  }
 ],
 "metadata": {
  "kernelspec": {
   "display_name": "Python 3 (ipykernel)",
   "language": "python",
   "name": "python3"
  },
  "language_info": {
   "codemirror_mode": {
    "name": "ipython",
    "version": 3
   },
   "file_extension": ".py",
   "mimetype": "text/x-python",
   "name": "python",
   "nbconvert_exporter": "python",
   "pygments_lexer": "ipython3",
   "version": "3.12.4"
  }
 },
 "nbformat": 4,
 "nbformat_minor": 5
}
