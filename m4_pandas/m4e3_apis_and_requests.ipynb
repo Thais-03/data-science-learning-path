{
 "cells": [
  {
   "cell_type": "markdown",
   "metadata": {},
   "source": [
    "# Tarefa 03\n",
    "\n",
    "- Leia os enunciados com atenção\n",
    "- Saiba que pode haver mais de uma resposta correta\n",
    "- Insira novas células de código sempre que achar necessário\n",
    "- Em caso de dúvidas, procure os Tutores\n",
    "- Divirta-se :)"
   ]
  },
  {
   "cell_type": "code",
   "execution_count": 103,
   "metadata": {},
   "outputs": [],
   "source": [
    "import pandas as pd\n",
    "import numpy as np\n",
    "import datetime as dt\n",
    "import requests"
   ]
  },
  {
   "cell_type": "markdown",
   "metadata": {},
   "source": [
    "####  1) Lendo de APIs\n",
    "Vimos em aula como carregar dados públicos do governo através de um API (*Application Programming Interface*). No exemplo de aula, baixamos os dados de pedidos de verificação de limites (PVL) realizados por estados, e selecionamos apenas aqueles referentes ao estado de São Paulo.\n",
    "\n",
    "1. Repita os mesmos passos feitos em aula, mas selecione os PVLs realizados por municípios no estado do Rio de Janeiro.\n",
    "2. Quais são os três *status* das solicitações mais frequentes na base? Quais são suas frequências?\n",
    "3. Construa uma nova variável que contenha o ano do **status**. Observe que ```data_status``` vem como tipo *object* no **DataFrame**. Dica: você pode usar o método ```.str``` para transformar o tipo da variável em string, em seguida um método como [**slice()**](https://pandas.pydata.org/docs/reference/api/pandas.Series.str.slice.html) ou [**split()**](https://pandas.pydata.org/pandas-docs/stable/reference/api/pandas.Series.str.split.html).\n",
    "4. Indique a frequência de cada ano do campo construído no item (3)."
   ]
  },
  {
   "cell_type": "code",
   "execution_count": 105,
   "metadata": {},
   "outputs": [
    {
     "data": {
      "text/html": [
       "<div>\n",
       "<style scoped>\n",
       "    .dataframe tbody tr th:only-of-type {\n",
       "        vertical-align: middle;\n",
       "    }\n",
       "\n",
       "    .dataframe tbody tr th {\n",
       "        vertical-align: top;\n",
       "    }\n",
       "\n",
       "    .dataframe thead th {\n",
       "        text-align: right;\n",
       "    }\n",
       "</style>\n",
       "<table border=\"1\" class=\"dataframe\">\n",
       "  <thead>\n",
       "    <tr style=\"text-align: right;\">\n",
       "      <th></th>\n",
       "      <th>id_pleito</th>\n",
       "      <th>tipo_interessado</th>\n",
       "      <th>interessado</th>\n",
       "      <th>cod_ibge</th>\n",
       "      <th>uf</th>\n",
       "      <th>num_pvl</th>\n",
       "      <th>status</th>\n",
       "      <th>num_processo</th>\n",
       "      <th>data_protocolo</th>\n",
       "      <th>tipo_operacao</th>\n",
       "      <th>finalidade</th>\n",
       "      <th>tipo_credor</th>\n",
       "      <th>credor</th>\n",
       "      <th>moeda</th>\n",
       "      <th>valor</th>\n",
       "      <th>pvl_assoc_divida</th>\n",
       "      <th>pvl_contradado_credor</th>\n",
       "      <th>data_status</th>\n",
       "    </tr>\n",
       "  </thead>\n",
       "  <tbody>\n",
       "    <tr>\n",
       "      <th>7</th>\n",
       "      <td>68563</td>\n",
       "      <td>Município</td>\n",
       "      <td>Nova Iguaçu</td>\n",
       "      <td>3303500</td>\n",
       "      <td>RJ</td>\n",
       "      <td>PVL02.000551/2024-39</td>\n",
       "      <td>Assinado pelo interessado (retificação)</td>\n",
       "      <td>17944.002171/2024-00</td>\n",
       "      <td>2024-05-28T20:07:11Z</td>\n",
       "      <td>Operação contratual interna (com garantia da U...</td>\n",
       "      <td>Infraestrutura</td>\n",
       "      <td>Instituição Financeira Nacional</td>\n",
       "      <td>Caixa Econômica Federal</td>\n",
       "      <td>Real</td>\n",
       "      <td>160000000.0</td>\n",
       "      <td>0</td>\n",
       "      <td>0</td>\n",
       "      <td>27/06/2024</td>\n",
       "    </tr>\n",
       "    <tr>\n",
       "      <th>33</th>\n",
       "      <td>65407</td>\n",
       "      <td>Município</td>\n",
       "      <td>Itaboraí</td>\n",
       "      <td>3301900</td>\n",
       "      <td>RJ</td>\n",
       "      <td>PVL02.001946/2023-78</td>\n",
       "      <td>Arquivado a pedido</td>\n",
       "      <td>17944.102785/2023-00</td>\n",
       "      <td>2023-06-30T18:15:09Z</td>\n",
       "      <td>Operação contratual interna</td>\n",
       "      <td>Infraestrutura</td>\n",
       "      <td>Instituição Financeira Nacional</td>\n",
       "      <td>Caixa Econômica Federal</td>\n",
       "      <td>Real</td>\n",
       "      <td>100000000.0</td>\n",
       "      <td>0</td>\n",
       "      <td>0</td>\n",
       "      <td>05/10/2023</td>\n",
       "    </tr>\n",
       "    <tr>\n",
       "      <th>275</th>\n",
       "      <td>34099</td>\n",
       "      <td>Município</td>\n",
       "      <td>Resende</td>\n",
       "      <td>3304201</td>\n",
       "      <td>RJ</td>\n",
       "      <td>PVL02.003090/2019-99</td>\n",
       "      <td>Deferido (PVL-IF)</td>\n",
       "      <td>None</td>\n",
       "      <td>None</td>\n",
       "      <td>Operação contratual interna</td>\n",
       "      <td>Aporte de capital</td>\n",
       "      <td>Instituição Financeira Nacional</td>\n",
       "      <td>Caixa Econômica Federal</td>\n",
       "      <td>Real</td>\n",
       "      <td>4500000.0</td>\n",
       "      <td>0</td>\n",
       "      <td>1</td>\n",
       "      <td>27/09/2019</td>\n",
       "    </tr>\n",
       "    <tr>\n",
       "      <th>340</th>\n",
       "      <td>61653</td>\n",
       "      <td>Município</td>\n",
       "      <td>Teresópolis</td>\n",
       "      <td>3305802</td>\n",
       "      <td>RJ</td>\n",
       "      <td>PVL02.007127/2022-53</td>\n",
       "      <td>Deferido</td>\n",
       "      <td>17944.103775/2022-01</td>\n",
       "      <td>2022-10-19T19:18:08Z</td>\n",
       "      <td>Operação contratual interna</td>\n",
       "      <td>Multissetorial</td>\n",
       "      <td>Instituição Financeira Nacional</td>\n",
       "      <td>Agência de Fomento do Estado do Rio de Janeiro</td>\n",
       "      <td>Real</td>\n",
       "      <td>35000000.0</td>\n",
       "      <td>0</td>\n",
       "      <td>0</td>\n",
       "      <td>21/10/2022</td>\n",
       "    </tr>\n",
       "    <tr>\n",
       "      <th>358</th>\n",
       "      <td>6833</td>\n",
       "      <td>Estado</td>\n",
       "      <td>Rio de Janeiro</td>\n",
       "      <td>33</td>\n",
       "      <td>RJ</td>\n",
       "      <td>None</td>\n",
       "      <td>Deferido</td>\n",
       "      <td>17944.000440/2008-75</td>\n",
       "      <td>2008-04-11T03:00:00Z</td>\n",
       "      <td>Operação contratual interna</td>\n",
       "      <td>Multissetorial</td>\n",
       "      <td>Instituição Financeira Nacional</td>\n",
       "      <td>Banco Nacional de Desenvolvimento Econômico e ...</td>\n",
       "      <td>Real</td>\n",
       "      <td>15000000.0</td>\n",
       "      <td>1</td>\n",
       "      <td>0</td>\n",
       "      <td>18/04/2008</td>\n",
       "    </tr>\n",
       "  </tbody>\n",
       "</table>\n",
       "</div>"
      ],
      "text/plain": [
       "     id_pleito tipo_interessado     interessado  cod_ibge  uf  \\\n",
       "7        68563        Município     Nova Iguaçu   3303500  RJ   \n",
       "33       65407        Município        Itaboraí   3301900  RJ   \n",
       "275      34099        Município         Resende   3304201  RJ   \n",
       "340      61653        Município     Teresópolis   3305802  RJ   \n",
       "358       6833           Estado  Rio de Janeiro        33  RJ   \n",
       "\n",
       "                  num_pvl                                   status  \\\n",
       "7    PVL02.000551/2024-39  Assinado pelo interessado (retificação)   \n",
       "33   PVL02.001946/2023-78                       Arquivado a pedido   \n",
       "275  PVL02.003090/2019-99                        Deferido (PVL-IF)   \n",
       "340  PVL02.007127/2022-53                                 Deferido   \n",
       "358                  None                                 Deferido   \n",
       "\n",
       "             num_processo        data_protocolo  \\\n",
       "7    17944.002171/2024-00  2024-05-28T20:07:11Z   \n",
       "33   17944.102785/2023-00  2023-06-30T18:15:09Z   \n",
       "275                  None                  None   \n",
       "340  17944.103775/2022-01  2022-10-19T19:18:08Z   \n",
       "358  17944.000440/2008-75  2008-04-11T03:00:00Z   \n",
       "\n",
       "                                         tipo_operacao         finalidade  \\\n",
       "7    Operação contratual interna (com garantia da U...     Infraestrutura   \n",
       "33                         Operação contratual interna     Infraestrutura   \n",
       "275                        Operação contratual interna  Aporte de capital   \n",
       "340                        Operação contratual interna     Multissetorial   \n",
       "358                        Operação contratual interna     Multissetorial   \n",
       "\n",
       "                         tipo_credor  \\\n",
       "7    Instituição Financeira Nacional   \n",
       "33   Instituição Financeira Nacional   \n",
       "275  Instituição Financeira Nacional   \n",
       "340  Instituição Financeira Nacional   \n",
       "358  Instituição Financeira Nacional   \n",
       "\n",
       "                                                credor moeda        valor  \\\n",
       "7                              Caixa Econômica Federal  Real  160000000.0   \n",
       "33                             Caixa Econômica Federal  Real  100000000.0   \n",
       "275                            Caixa Econômica Federal  Real    4500000.0   \n",
       "340     Agência de Fomento do Estado do Rio de Janeiro  Real   35000000.0   \n",
       "358  Banco Nacional de Desenvolvimento Econômico e ...  Real   15000000.0   \n",
       "\n",
       "     pvl_assoc_divida  pvl_contradado_credor data_status  \n",
       "7                   0                      0  27/06/2024  \n",
       "33                  0                      0  05/10/2023  \n",
       "275                 0                      1  27/09/2019  \n",
       "340                 0                      0  21/10/2022  \n",
       "358                 1                      0  18/04/2008  "
      ]
     },
     "execution_count": 105,
     "metadata": {},
     "output_type": "execute_result"
    }
   ],
   "source": [
    "# 1) Seu código aqui\n",
    "url = 'https://apidatalake.tesouro.gov.br/ords/sadipem/tt/pvl'\n",
    "pvl = requests.get(url)\n",
    "#pvl.status_code\n",
    "\n",
    "data_pvl = pvl.json()\n",
    "df_pvl = pd.DataFrame(data_pvl['items'])\n",
    "df_rj = df_pvl[df_pvl['uf'] == 'RJ']\n",
    "df_rj.head()"
   ]
  },
  {
   "cell_type": "code",
   "execution_count": 107,
   "metadata": {},
   "outputs": [
    {
     "name": "stdout",
     "output_type": "stream",
     "text": [
      "<class 'pandas.core.frame.DataFrame'>\n",
      "Index: 61 entries, 7 to 4782\n",
      "Data columns (total 18 columns):\n",
      " #   Column                 Non-Null Count  Dtype  \n",
      "---  ------                 --------------  -----  \n",
      " 0   id_pleito              61 non-null     int64  \n",
      " 1   tipo_interessado       61 non-null     object \n",
      " 2   interessado            61 non-null     object \n",
      " 3   cod_ibge               61 non-null     int64  \n",
      " 4   uf                     61 non-null     object \n",
      " 5   num_pvl                14 non-null     object \n",
      " 6   status                 61 non-null     object \n",
      " 7   num_processo           56 non-null     object \n",
      " 8   data_protocolo         56 non-null     object \n",
      " 9   tipo_operacao          61 non-null     object \n",
      " 10  finalidade             61 non-null     object \n",
      " 11  tipo_credor            61 non-null     object \n",
      " 12  credor                 61 non-null     object \n",
      " 13  moeda                  61 non-null     object \n",
      " 14  valor                  61 non-null     float64\n",
      " 15  pvl_assoc_divida       61 non-null     int64  \n",
      " 16  pvl_contradado_credor  61 non-null     int64  \n",
      " 17  data_status            61 non-null     object \n",
      "dtypes: float64(1), int64(4), object(13)\n",
      "memory usage: 9.1+ KB\n"
     ]
    }
   ],
   "source": [
    "df_rj.info()"
   ]
  },
  {
   "cell_type": "code",
   "execution_count": 109,
   "metadata": {},
   "outputs": [
    {
     "data": {
      "text/plain": [
       "status\n",
       "Deferido                                                 23\n",
       "Arquivado                                                13\n",
       "Encaminhado à PGFN com manifestação técnica favorável    10\n",
       "Name: count, dtype: int64"
      ]
     },
     "execution_count": 109,
     "metadata": {},
     "output_type": "execute_result"
    }
   ],
   "source": [
    "# 2) Seu código aqui\n",
    "df_rj['status'].value_counts().head(3)"
   ]
  },
  {
   "cell_type": "code",
   "execution_count": 121,
   "metadata": {},
   "outputs": [
    {
     "name": "stdout",
     "output_type": "stream",
     "text": [
      "<class 'pandas.core.frame.DataFrame'>\n",
      "Index: 61 entries, 7 to 4782\n",
      "Data columns (total 18 columns):\n",
      " #   Column                 Non-Null Count  Dtype  \n",
      "---  ------                 --------------  -----  \n",
      " 0   id_pleito              61 non-null     int64  \n",
      " 1   tipo_interessado       61 non-null     object \n",
      " 2   interessado            61 non-null     object \n",
      " 3   cod_ibge               61 non-null     int64  \n",
      " 4   uf                     61 non-null     object \n",
      " 5   num_pvl                14 non-null     object \n",
      " 6   status                 61 non-null     object \n",
      " 7   num_processo           56 non-null     object \n",
      " 8   data_protocolo         56 non-null     object \n",
      " 9   tipo_operacao          61 non-null     object \n",
      " 10  finalidade             61 non-null     object \n",
      " 11  tipo_credor            61 non-null     object \n",
      " 12  credor                 61 non-null     object \n",
      " 13  moeda                  61 non-null     object \n",
      " 14  valor                  61 non-null     float64\n",
      " 15  pvl_assoc_divida       61 non-null     int64  \n",
      " 16  pvl_contradado_credor  61 non-null     int64  \n",
      " 17  data_status            61 non-null     object \n",
      "dtypes: float64(1), int64(4), object(13)\n",
      "memory usage: 9.1+ KB\n"
     ]
    }
   ],
   "source": [
    "# 3) Seu código aqui\n",
    "#Converter data_status em 'datetime' \n",
    "df_rj.loc[:, 'data_status'] = pd.to_datetime(df_rj['data_status'], format = '%d/%m/%Y')\n",
    "df_rj.info()"
   ]
  },
  {
   "cell_type": "code",
   "execution_count": null,
   "metadata": {},
   "outputs": [],
   "source": [
    "df_rj.loc[:, 'ano_status_dt'] = df_rj['data_status'].dt.year"
   ]
  },
  {
   "cell_type": "markdown",
   "metadata": {},
   "source": [
    "####  2) Melhorando a interação com o API\n",
    "Observe dois URLs de consultas diferentes, por exemplo o URL utilizado em aula, e o URL feito no exercício anterior. Compare-os e observe as diferenças.\n",
    "\n",
    "1. Faça uma função em Python que recebe como argumento o UF da consulta e o tipo de interessado (```'Estado'```ou ```Município```), e que devolve os dados da consulta no formato *DataFrame*.\n",
    "2. Quantas solicitações para o Estado podem ser consultadas para Minas Gerais com *status* em 'Arquivado por decurso de prazo' estão registradas?\n",
    "3. Qual é o município da Bahia com mais solicitações deferidas?\n",
    "4. Salve um arquivo .csv com os dados de solicitações da Bahia, com interessado = 'Estado'"
   ]
  },
  {
   "cell_type": "code",
   "execution_count": 173,
   "metadata": {},
   "outputs": [],
   "source": [
    "#1) Seu código aqui"
   ]
  },
  {
   "cell_type": "code",
   "execution_count": 174,
   "metadata": {},
   "outputs": [],
   "source": [
    "# 2) Seu código aqui"
   ]
  },
  {
   "cell_type": "code",
   "execution_count": 175,
   "metadata": {},
   "outputs": [],
   "source": [
    "# 3) Seu código aqui"
   ]
  },
  {
   "cell_type": "code",
   "execution_count": null,
   "metadata": {},
   "outputs": [],
   "source": [
    "# 4) Seu código aqui"
   ]
  }
 ],
 "metadata": {
  "kernelspec": {
   "display_name": "Python 3 (ipykernel)",
   "language": "python",
   "name": "python3"
  },
  "language_info": {
   "codemirror_mode": {
    "name": "ipython",
    "version": 3
   },
   "file_extension": ".py",
   "mimetype": "text/x-python",
   "name": "python",
   "nbconvert_exporter": "python",
   "pygments_lexer": "ipython3",
   "version": "3.12.4"
  }
 },
 "nbformat": 4,
 "nbformat_minor": 4
}
